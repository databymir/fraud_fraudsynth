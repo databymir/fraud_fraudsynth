{
 "cells": [
  {
   "cell_type": "markdown",
   "id": "d7173e5c-4a31-4aa0-8bed-effefebfcd8a",
   "metadata": {},
   "source": [
    "# Fraud Detection Using Synthesized Data: A Cautionary Tale <a class='anchor' id='top'></a>\n",
    "## Author: Oliverius, Miranda"
   ]
  },
  {
   "cell_type": "markdown",
   "id": "48476f69-1570-4035-bb07-86a65a435255",
   "metadata": {},
   "source": [
    "## Table of Contents:"
   ]
  },
  {
   "cell_type": "markdown",
   "id": "fcbefc30-82b7-4cbd-867f-d4773e6cce8b",
   "metadata": {},
   "source": [
    "* [Introduction](#intro)\n",
    "* [Get the Data](#data)\n",
    "* [Explore the Data](#explore)\n",
    "* [Data Quality Assessment](#quality)\n",
    "* [Prepare the Data](#prepare)\n",
    "* [Model Training](#train)\n",
    "* [Conclusion](#conclusion)\n",
    "* [References](#references)"
   ]
  },
  {
   "cell_type": "markdown",
   "id": "15c57fa0-611c-4242-bbbe-5b0360d116c8",
   "metadata": {},
   "source": [
    "## Introduction <a class='anchor' id='intro'></a>"
   ]
  },
  {
   "cell_type": "markdown",
   "id": "2616811d-3425-4888-a920-34cf53d1adc2",
   "metadata": {},
   "source": [
    "Spoiler alert: This data science project did not have the outcome I was anticipating.\n",
    "\n",
    "When I set out to do this project, I had found a dataset on Kaggle called \"FraudSynth,\" which was described as \"a meticulously crafted synthetic dataset tailored for the development and evaluation of credit fraud detection models. With a focus on mirroring real-world credit application scenarios, this dataset encompasses a diverse range of applicant information, financial details, and intentionally introduced anomalies to simulate fraudulent activities\" (Ismail, 2024).\n",
    "\n",
    "All of that sounded great, so I downloaded the data and set out on a mission to train a fraud detection model. Specifically, I thought that I would likely train a few different types of models, including a Logistic Regression Classifier and a Random Forest Classifier. I also considered using an ensemble method like bagging or stacking to leverage the insights of multiple classifiers together.\n",
    "\n",
    "However, as I got into my exploratory data analysis, an increasing number of red flags were popping up. It turned out that this \"meticulously crafted synthetic dataset\" appeared to be *too* meticulously crafted.\n",
    "\n",
    "The project that follows this overview will walk through my data exploration, analysis, and model training to identify the signs that pointed to data quality issues and discuss the limitations of utilizing overly perfect synthesized data to build machine learning models."
   ]
  },
  {
   "cell_type": "markdown",
   "id": "f8ba07e9-6852-4e27-8ab9-888cc9b18aef",
   "metadata": {},
   "source": [
    "## Get the Data <a class='anchor' id='data'></a>"
   ]
  },
  {
   "cell_type": "markdown",
   "id": "a1c65122-3ee1-4d65-962b-7173f375f414",
   "metadata": {},
   "source": [
    "[Click Here to Return to Top](#top)"
   ]
  },
  {
   "cell_type": "markdown",
   "id": "1161a449-e5e4-4b0c-8ea5-43f6eba86050",
   "metadata": {},
   "source": [
    "### Data Import"
   ]
  },
  {
   "cell_type": "markdown",
   "id": "8a63b172-72d7-4e13-b99d-1c442fed6b35",
   "metadata": {},
   "source": [
    "To get started, I need to import common Python libraries for data manipulation, visualization, machine learning, and metrics. These libraries allow me to work with the data in a way that is more flexible and suited to my purposes than simply using base Python."
   ]
  },
  {
   "cell_type": "code",
   "execution_count": 1,
   "id": "5c6f9d4e-afe7-4ad9-a03d-9a8b203b0fee",
   "metadata": {},
   "outputs": [],
   "source": [
    "# load libraries\n",
    "# load libraries\n",
    "## *** DATA MANIPULATION ***\n",
    "import pandas as pd\n",
    "import numpy as np\n",
    "\n",
    "## *** DATA VISUALIZATION ***\n",
    "import matplotlib.pyplot as plt\n",
    "import seaborn as sns\n",
    "\n",
    "## *** MACHINE LEARNING ***\n",
    "from sklearn.model_selection import train_test_split, cross_val_predict\n",
    "from sklearn.linear_model import LogisticRegression\n",
    "\n",
    "## *** METRICS ***\n",
    "from sklearn.metrics import accuracy_score, precision_score, recall_score, f1_score"
   ]
  },
  {
   "cell_type": "markdown",
   "id": "a67eb783-1607-4654-b409-73def0bed7d9",
   "metadata": {},
   "source": [
    "Next, I need to import the data into the notebook so that I can begin the analysis and modeling task. The data is in a comma-separated values (CSV) file, which must then be placed in the same file location as the notebook for the following code to run properly."
   ]
  },
  {
   "cell_type": "code",
   "execution_count": 2,
   "id": "54be4878-bf5c-4340-8cea-520862ba584b",
   "metadata": {},
   "outputs": [],
   "source": [
    "# import data from CSV file\n",
    "fraudsynth = pd.read_csv('fraud_detection_dataset.csv')"
   ]
  },
  {
   "cell_type": "markdown",
   "id": "d2beca64-985c-43de-9f50-9ce5e5ea2055",
   "metadata": {},
   "source": [
    "### Data Size & Type"
   ]
  },
  {
   "cell_type": "markdown",
   "id": "72e642af-aed0-433c-9ddd-cbd6c0d48a38",
   "metadata": {},
   "source": [
    "I check the data size and type to gain an understanding of the scope of the data, the number of missing values, and the data types that I will be working with. This helps catch initial tasks that need to be done during the data cleaning and preprocessing."
   ]
  },
  {
   "cell_type": "code",
   "execution_count": 3,
   "id": "b153edb2-5ee6-4fd4-a33a-ae2977b3722d",
   "metadata": {},
   "outputs": [
    {
     "name": "stdout",
     "output_type": "stream",
     "text": [
      "<class 'pandas.core.frame.DataFrame'>\n",
      "RangeIndex: 2000000 entries, 0 to 1999999\n",
      "Data columns (total 10 columns):\n",
      " #   Column        Non-Null Count    Dtype  \n",
      "---  ------        --------------    -----  \n",
      " 0   timestamp     2000000 non-null  object \n",
      " 1   user_id       2000000 non-null  object \n",
      " 2   amount        2000000 non-null  float64\n",
      " 3   location      2000000 non-null  object \n",
      " 4   device_type   2000000 non-null  object \n",
      " 5   is_fraud      2000000 non-null  int64  \n",
      " 6   age           2000000 non-null  int64  \n",
      " 7   income        2000000 non-null  float64\n",
      " 8   debt          2000000 non-null  float64\n",
      " 9   credit_score  2000000 non-null  int64  \n",
      "dtypes: float64(3), int64(3), object(4)\n",
      "memory usage: 152.6+ MB\n",
      "None\n"
     ]
    }
   ],
   "source": [
    "# check data size & type\n",
    "print(fraudsynth.info(verbose=True, show_counts=True))"
   ]
  },
  {
   "cell_type": "markdown",
   "id": "757c7097-e2c8-4b22-9aab-2a56d1935bed",
   "metadata": {},
   "source": [
    "__Observations:__\n",
    "\n",
    "__1. There are 2,000,000 total instances.__\n",
    "\n",
    "An instance is a single observation or row of data; in this case, each observation represents a row of data for one transaction in the dataset.\n",
    "\n",
    "__2. There are 10 columns.__\n",
    "\n",
    "The 'is_fraud' column represents the target attribute that the model will be predicting, while the other nine columns each represent a data feature. Features are the variables used as the input for the model and are often called predictors or attributes. \n",
    "\n",
    "In the data, each column records information about each transaction. For example, the first three columns contain the timestamp, user ID, and amount of each transaction.\n",
    "\n",
    "__3. Every column has 2,000,000 non-null values, which means that there are no null values in the dataset.__\n",
    "\n",
    "Null values represent missing data or data that does not exist. Because the data does not have any null values, there is no need to incorporate data removal or imputation into preprocessing.\n",
    "\n",
    "__4. The data includes both numeric and categorical data types.__\n",
    "\n",
    "Columns with a \"float64\" data type contain numeric data that include a decimal point, while columns with a \"int64\" data type contain integers (whole numbers). Lastly, the \"object\" data type is assigned to data that contains text, such as alphabetic characters rather than purely numeric characters.\n",
    "\n",
    "Exploratory data analysis will need to consider whether any of the numeric data is actually categorical. In addition, because machine learning algorithms often prefer to work with numeric data, categorical variables will require encoding, which transforms them into a numeric format."
   ]
  },
  {
   "cell_type": "markdown",
   "id": "3b4a4688-a90f-40d8-9d92-7308514d454d",
   "metadata": {},
   "source": [
    "### Data Features & Descriptions"
   ]
  },
  {
   "cell_type": "markdown",
   "id": "906a97b3-c5ef-4e0c-8376-bfbd3c2cc4af",
   "metadata": {},
   "source": [
    "The features of the data are listed below, along with their descriptions from the Kaggle Data Card:"
   ]
  },
  {
   "cell_type": "markdown",
   "id": "359719a7-10d6-4adc-9a60-244628365142",
   "metadata": {},
   "source": [
    "1. __timestamp__: the date and time of the transactions\n",
    "2. __user_id__: a unique identifier for each user\n",
    "3. __amount__: the transaction amount in currency\n",
    "4. __location__: the location when the transaction occurred (city)\n",
    "5. __device_type__: the type of device used for the transaction (e.g. desktop, mobile, tablet)\n",
    "6. __is_fraud__: a binary indicator (0 or 1) representing whether the transaction is fraudulent (1) or legitimate (0)\n",
    "7. __age__: the age of the user\n",
    "8. __income__: the income of the user\n",
    "9. __debt__: the debt amount associated with the user\n",
    "10. __credit_score__: the credit score of the user "
   ]
  },
  {
   "cell_type": "markdown",
   "id": "6b2354cf-4b22-4f00-bf35-4b288efab4e3",
   "metadata": {},
   "source": [
    "Next, view the first few rows of data with the data descriptions in mind:"
   ]
  },
  {
   "cell_type": "code",
   "execution_count": 4,
   "id": "21877f56-c744-4460-99a1-db632de0a815",
   "metadata": {},
   "outputs": [
    {
     "data": {
      "text/html": [
       "<div>\n",
       "<style scoped>\n",
       "    .dataframe tbody tr th:only-of-type {\n",
       "        vertical-align: middle;\n",
       "    }\n",
       "\n",
       "    .dataframe tbody tr th {\n",
       "        vertical-align: top;\n",
       "    }\n",
       "\n",
       "    .dataframe thead th {\n",
       "        text-align: right;\n",
       "    }\n",
       "</style>\n",
       "<table border=\"1\" class=\"dataframe\">\n",
       "  <thead>\n",
       "    <tr style=\"text-align: right;\">\n",
       "      <th></th>\n",
       "      <th>timestamp</th>\n",
       "      <th>user_id</th>\n",
       "      <th>amount</th>\n",
       "      <th>location</th>\n",
       "      <th>device_type</th>\n",
       "      <th>is_fraud</th>\n",
       "      <th>age</th>\n",
       "      <th>income</th>\n",
       "      <th>debt</th>\n",
       "      <th>credit_score</th>\n",
       "    </tr>\n",
       "  </thead>\n",
       "  <tbody>\n",
       "    <tr>\n",
       "      <th>0</th>\n",
       "      <td>2023-12-15 02:48:24</td>\n",
       "      <td>3cbf0b8a-c799-4c0e-9782-89272ab8fa2b</td>\n",
       "      <td>998.99</td>\n",
       "      <td>Grantfurt</td>\n",
       "      <td>Mobile</td>\n",
       "      <td>0</td>\n",
       "      <td>56</td>\n",
       "      <td>42524.98</td>\n",
       "      <td>8394.05</td>\n",
       "      <td>655</td>\n",
       "    </tr>\n",
       "    <tr>\n",
       "      <th>1</th>\n",
       "      <td>2023-10-30 11:08:37</td>\n",
       "      <td>3675ed98-6863-4bae-b089-6f0db2df006b</td>\n",
       "      <td>241.39</td>\n",
       "      <td>Kimberlychester</td>\n",
       "      <td>Tablet</td>\n",
       "      <td>0</td>\n",
       "      <td>52</td>\n",
       "      <td>69884.04</td>\n",
       "      <td>28434.06</td>\n",
       "      <td>395</td>\n",
       "    </tr>\n",
       "    <tr>\n",
       "      <th>2</th>\n",
       "      <td>2023-11-21 05:19:35</td>\n",
       "      <td>4be1043f-20ee-4ac5-a689-b25c6a1de50c</td>\n",
       "      <td>836.42</td>\n",
       "      <td>Gutierrezville</td>\n",
       "      <td>Desktop</td>\n",
       "      <td>0</td>\n",
       "      <td>58</td>\n",
       "      <td>126953.62</td>\n",
       "      <td>39121.78</td>\n",
       "      <td>496</td>\n",
       "    </tr>\n",
       "    <tr>\n",
       "      <th>3</th>\n",
       "      <td>2023-11-07 00:03:25</td>\n",
       "      <td>cad0b3c9-099f-479b-8043-6d5ecb4e1467</td>\n",
       "      <td>612.74</td>\n",
       "      <td>Markside</td>\n",
       "      <td>Desktop</td>\n",
       "      <td>0</td>\n",
       "      <td>19</td>\n",
       "      <td>128650.70</td>\n",
       "      <td>39652.48</td>\n",
       "      <td>612</td>\n",
       "    </tr>\n",
       "    <tr>\n",
       "      <th>4</th>\n",
       "      <td>2023-04-02 14:12:23</td>\n",
       "      <td>b6ebea7d-ba62-41d7-b042-3978a23fef8b</td>\n",
       "      <td>135.55</td>\n",
       "      <td>Anthonyshire</td>\n",
       "      <td>Tablet</td>\n",
       "      <td>0</td>\n",
       "      <td>59</td>\n",
       "      <td>102020.39</td>\n",
       "      <td>7439.81</td>\n",
       "      <td>302</td>\n",
       "    </tr>\n",
       "  </tbody>\n",
       "</table>\n",
       "</div>"
      ],
      "text/plain": [
       "             timestamp                               user_id  amount  \\\n",
       "0  2023-12-15 02:48:24  3cbf0b8a-c799-4c0e-9782-89272ab8fa2b  998.99   \n",
       "1  2023-10-30 11:08:37  3675ed98-6863-4bae-b089-6f0db2df006b  241.39   \n",
       "2  2023-11-21 05:19:35  4be1043f-20ee-4ac5-a689-b25c6a1de50c  836.42   \n",
       "3  2023-11-07 00:03:25  cad0b3c9-099f-479b-8043-6d5ecb4e1467  612.74   \n",
       "4  2023-04-02 14:12:23  b6ebea7d-ba62-41d7-b042-3978a23fef8b  135.55   \n",
       "\n",
       "          location device_type  is_fraud  age     income      debt  \\\n",
       "0        Grantfurt      Mobile         0   56   42524.98   8394.05   \n",
       "1  Kimberlychester      Tablet         0   52   69884.04  28434.06   \n",
       "2   Gutierrezville     Desktop         0   58  126953.62  39121.78   \n",
       "3         Markside     Desktop         0   19  128650.70  39652.48   \n",
       "4     Anthonyshire      Tablet         0   59  102020.39   7439.81   \n",
       "\n",
       "   credit_score  \n",
       "0           655  \n",
       "1           395  \n",
       "2           496  \n",
       "3           612  \n",
       "4           302  "
      ]
     },
     "execution_count": 4,
     "metadata": {},
     "output_type": "execute_result"
    }
   ],
   "source": [
    "# display the first few rows of data\n",
    "fraudsynth.head()"
   ]
  },
  {
   "cell_type": "markdown",
   "id": "22d31585-df31-4fa4-937b-38c876ee9c19",
   "metadata": {},
   "source": [
    "__Observations:__\n",
    "\n",
    "__1. The timestamp variable contains information about multiple units of time.__\n",
    "\n",
    "Feature engineering can extract various pieces of the timestamp values- such as the month, day of the week, or time of day- in order to further explore whether time can assist in predicting whether a transaction is fraudulent.\n",
    "\n",
    "__2. The only categorical variable that is already stored as numeric values in the raw data is the label attribute, \"is_fraud\".__\n",
    "\n",
    "The raw data has already transformed the binary response to the question \"Was this transaction fraudulent?\" into numeric values, where '1' represents fraudulent transactions and '0' represents legitimate transactions."
   ]
  },
  {
   "cell_type": "markdown",
   "id": "15dccd29-ade3-4e16-b869-24b03cba040a",
   "metadata": {},
   "source": [
    "### Label Attribute"
   ]
  },
  {
   "cell_type": "markdown",
   "id": "1efbc615-9361-4923-8fb6-b0b1b56ce626",
   "metadata": {},
   "source": [
    "The goal is to identify credit transactions that are fraudulent. Based on the feature descriptions listed, the label attribute is \"is_fraud\" which provides a binary classification categorizing transactions as fraudulent or legitimate.\n",
    "\n",
    "When considering the label attribute, it is important to check whether the data is balanced. A class imbalance occurs when there is a significantly larger number of observations falling into one class compared to another. In cases like fraud detection, datasets often are imbalanced, with a significantly larger proportion of legitimate transactions compared to illegitimate ones. The downside of such imbalanced datasets in machine learning can be illustrated by the following:\n",
    "\n",
    "If a dataset was composed of 2% fraudulent transactions and 98% legitimate transactions, an algorithm programmed to predict every single transaction as legitimate would have 98% accuracy, even though it didn't actually have any aptitude for detecting fraud.\n",
    "\n",
    "Looking at the value counts for this attribute will confirm whether the dataset is imbalanced:"
   ]
  },
  {
   "cell_type": "code",
   "execution_count": 5,
   "id": "b654a4b1-08f4-4153-9f68-1b3574d68f0a",
   "metadata": {},
   "outputs": [
    {
     "data": {
      "text/plain": [
       "is_fraud\n",
       "0    1000000\n",
       "1    1000000\n",
       "Name: count, dtype: int64"
      ]
     },
     "execution_count": 5,
     "metadata": {},
     "output_type": "execute_result"
    }
   ],
   "source": [
    "# view value counts for the label attribute\n",
    "fraudsynth['is_fraud'].value_counts()"
   ]
  },
  {
   "cell_type": "markdown",
   "id": "59853372-57b8-4b92-954b-f3f8c17d7a56",
   "metadata": {},
   "source": [
    "As demonstrated above, the FraudSynth dataset is perfectly balanced with one million transactions in each category. As a result, there is no need to use any techniques (such as oversampling or undersampling) to mitigate the impact of class imbalance and I can proceed with splitting the data for training."
   ]
  },
  {
   "cell_type": "markdown",
   "id": "7f1fc46b-0f24-4545-97f6-0264711f561d",
   "metadata": {},
   "source": [
    "### Data Split"
   ]
  },
  {
   "cell_type": "markdown",
   "id": "bd8eab94-a80b-48d3-8459-e3627dc2179f",
   "metadata": {},
   "source": [
    "To increase the likelihood that the model will generalize well to new data, it is important that the data is split to create a training set and test set. A training set is composed of the instances that are used to train the model. Once the model has been trained, the instances in the test set will be used to test the model and evaluate how well it predicts fraudulent transactions using data that it has never seen before.\n",
    "\n",
    "To split the data, I start by separating the label attribute from the predictive features, naming the label attribute 'X' and the predictive features 'y'. Next, I split the resulting label and feature data into training and test sets, allocating 80% to training and 20% to testing."
   ]
  },
  {
   "cell_type": "code",
   "execution_count": 6,
   "id": "c1f57b1b-5ffd-4d93-90f5-401eb44e87f5",
   "metadata": {},
   "outputs": [],
   "source": [
    "# store predictive features\n",
    "X = fraudsynth.drop('is_fraud', axis=1)"
   ]
  },
  {
   "cell_type": "code",
   "execution_count": 7,
   "id": "656e11e8-fcd4-4443-9376-e473c0306988",
   "metadata": {},
   "outputs": [],
   "source": [
    "# store label attribute\n",
    "y = fraudsynth['is_fraud']"
   ]
  },
  {
   "cell_type": "code",
   "execution_count": 8,
   "id": "77138aa8-0f0d-4cc5-aca8-0984a25813ed",
   "metadata": {},
   "outputs": [],
   "source": [
    "# split into training and test sets\n",
    "## allocate 80% to training and 20% to testing\n",
    "## set random_state for reproducibility\n",
    "## not using stratified sampling, due to the dataset being balanced (see markdown above)\n",
    "X_train, X_test, y_train, y_test = train_test_split(X, y, test_size=0.2, stratify=y, random_state=42)"
   ]
  },
  {
   "cell_type": "markdown",
   "id": "a549ac2e-5e3f-4abb-bf9d-460b42350185",
   "metadata": {},
   "source": [
    "## Explore the Data <a class='anchor' id='explore'></a>"
   ]
  },
  {
   "cell_type": "markdown",
   "id": "d9cbeb0e-9071-43c5-b508-d1fa7ded46b6",
   "metadata": {},
   "source": [
    "[Click Here to Return to Top](#top)"
   ]
  },
  {
   "cell_type": "markdown",
   "id": "68f7cf8a-7e5b-4d50-9f5f-f49557a469a1",
   "metadata": {},
   "source": [
    "Before I can determine which features to use in the model, it is important that I explore the data thoroughly to identify the following:\n",
    "1. What types of data am I working with and how does that influence my exploration and modeling?\n",
    "2. What insights can be drawn from the statistical qualities of the data?\n",
    "3. What insights can be drawn from visualizing the data?\n",
    "    \n",
    "Notably, I will not be removing anomalies/outliers for this project, given the propensity for fraudulent activity to be anomalous.\n",
    "\n",
    "Lastly, when I split the data, I separated the predictive features from the label attribute. For convenience and efficiency during data exploration, the training data is combined into one data frame."
   ]
  },
  {
   "cell_type": "code",
   "execution_count": 9,
   "id": "dc92c1eb-ab9e-485b-8459-07170e23dced",
   "metadata": {},
   "outputs": [],
   "source": [
    "fraudsynth_train = pd.concat((X_train, y_train), axis=1)"
   ]
  },
  {
   "cell_type": "markdown",
   "id": "1d0c0edb-cdde-436d-a1ac-92a22af6f263",
   "metadata": {},
   "source": [
    "### Studying Features"
   ]
  },
  {
   "cell_type": "markdown",
   "id": "91a451f9-7180-47d2-b9dd-a91fc7e67e20",
   "metadata": {},
   "source": [
    "Understanding the types of data in the dataset will help determine the types of descriptive statistics and visualizations that are appropriate for further exploration.\n",
    "\n",
    "Below, two broad categories of data are defined and each of the attributes is categorized to its appropriate data type:\n",
    "\n",
    "__Qualitative data__ encompasses data that is non-numeric, and which can be divided into groups based on the basis of some qualitative property or trait. Two types of categorical data are nominal and ordinal data.\n",
    "* __Nominal data__ is categorical data in which the categories have no inherent order or ranking. This includes the following attributes:\n",
    "    - user_id\n",
    "    - location\n",
    "    - device_type\n",
    "\n",
    "__Quantitative data__ encompasses data that takes the form of numbers, where numeric values have meaning beyond their order or rank, and they are measurable.\n",
    "* In the dataset, the following attributes are considered quantitative data:\n",
    "    - timestamp (see caveat below)\n",
    "    - amount\n",
    "    - age\n",
    "    - income\n",
    "    - debt\n",
    "    - credit_score\n",
    "\n",
    "As mentioned previously, the 'timestamp' variable contains information about time that can be viewed through multiple levels of granularity. On its own, time is usually considered a continuous quantitative variable, but viewing it at different levels of granularity can help me catch if there are any patterns such as increased fraud at a certain time of day or certain days of the week. \n",
    "\n",
    "The 'timestamp' variable is currently stored as text, so before going into further exploratory data analysis, I will first convert the timestamp to a Pandas datetime object. This will provide more flexibility for date and time-related analyses. \n",
    "\n",
    "Then, I will also extract pieces of the timestamp, such as the date, year, month, day of the week, and time of day. Notably, many of these new extracted date and time components will be evaluated in the same way that the qualitative data is because qualities such as \"day of the week\" are categorical, rather than quantitative.\n",
    "\n",
    "*Note: This data type change will only affect the special grade_data_train DataFrame that I created for the exploratory analysis. The actual training and test data sets remain unchanged. After selecting features for the model, I will handle any data manipulation needed to prepare it for modeling.*"
   ]
  },
  {
   "cell_type": "code",
   "execution_count": 10,
   "id": "9be225c7-6136-4c96-9a2d-9243ffb3e18d",
   "metadata": {},
   "outputs": [],
   "source": [
    "# convert timestamp to datetime format\n",
    "fraudsynth_train['timestamp'] = pd.to_datetime(fraudsynth_train['timestamp'])"
   ]
  },
  {
   "cell_type": "code",
   "execution_count": 11,
   "id": "57e775ff-a12e-4dec-9bbe-3fe331f051dd",
   "metadata": {},
   "outputs": [],
   "source": [
    "# extract various pieces of timestamp\n",
    "fraudsynth_train['date'] = fraudsynth_train['timestamp'].dt.date\n",
    "fraudsynth_train['year'] = fraudsynth_train['timestamp'].dt.year\n",
    "fraudsynth_train['month'] = fraudsynth_train['timestamp'].dt.month\n",
    "fraudsynth_train['day_of_week'] = fraudsynth_train['timestamp'].dt.dayofweek\n",
    "fraudsynth_train['time'] = fraudsynth_train['timestamp'].dt.time"
   ]
  },
  {
   "cell_type": "code",
   "execution_count": 12,
   "id": "ed3b2134-3fbe-4ebe-a1e7-dbbd5c22c79f",
   "metadata": {},
   "outputs": [],
   "source": [
    "# categorize timestamp by time of day\n",
    "# pd.cut resource: https://stackoverflow.com/questions/63071619/how-to-categorize-timestamp-into-evening-in-pandas-dataframe\n",
    "fraudsynth_train['time_of_day'] = pd.cut(fraudsynth_train['timestamp'].dt.hour,\n",
    "                                 bins=[0, 6, 12, 18, 24],\n",
    "                                 labels=['night', 'morning', 'afternoon', 'evening'],\n",
    "                                 right=False,\n",
    "                                 include_lowest=True)"
   ]
  },
  {
   "cell_type": "markdown",
   "id": "47ef1881-e1fa-4944-938a-e6e97272c90d",
   "metadata": {},
   "source": [
    "### Descriptive Statistics"
   ]
  },
  {
   "cell_type": "markdown",
   "id": "2dcdb3c6-da6d-4499-a620-de5038aa8962",
   "metadata": {},
   "source": [
    "#### Qualitative Features"
   ]
  },
  {
   "cell_type": "markdown",
   "id": "3b6ac373-5577-4df6-80a9-f877d78e3e1e",
   "metadata": {},
   "source": [
    "First, I checked the value counts of the qualitative features. \n",
    "\n",
    "All but one variable had multiple instances in each category (i.e. there are multiple transactions for each location category). This means that there is additional exploratory data analysis that can be done to identify patterns or anomalies for these features. For conciseness and clarity, the actual results of these value_counts() calls have been removed from the workbook. \n",
    "\n",
    "However, there was one variable that I can eliminate from the predictive features right off the bat: 'user_id'. As shown below the maximum number of times that any individual user_id occurs in the dataset is one time. This means that each user_id only has one transaction associated with it. This indicates that there is no connection between any of the users in the dataset and the ability to predict fraudulent transactions."
   ]
  },
  {
   "cell_type": "code",
   "execution_count": 13,
   "id": "ac43d98d-3d7c-4210-b6f2-37fd1db10c90",
   "metadata": {},
   "outputs": [
    {
     "name": "stdout",
     "output_type": "stream",
     "text": [
      "Max Times that a Distinct User ID Occurs:  1\n"
     ]
    }
   ],
   "source": [
    "# view the maximum number of times that a single user ID appears in the data\n",
    "print('Max Times that a Distinct User ID Occurs: ', max(fraudsynth_train['user_id'].value_counts()))"
   ]
  },
  {
   "cell_type": "markdown",
   "id": "75200a89-3571-41b1-8d79-2ddd0467ab42",
   "metadata": {},
   "source": [
    "Next, I created cross tabulations for each of the remaining qualitative features. These cross tabulations show the frequency of observations based on whether they are fraudulent or legitimate, broken out by subcategory so that I can analyze the relationship between the target attribute and each qualitative feature."
   ]
  },
  {
   "cell_type": "code",
   "execution_count": 14,
   "id": "570d8f4b-d2a6-4808-8c97-0f3aac6eaf94",
   "metadata": {},
   "outputs": [
    {
     "data": {
      "text/html": [
       "<div>\n",
       "<style scoped>\n",
       "    .dataframe tbody tr th:only-of-type {\n",
       "        vertical-align: middle;\n",
       "    }\n",
       "\n",
       "    .dataframe tbody tr th {\n",
       "        vertical-align: top;\n",
       "    }\n",
       "\n",
       "    .dataframe thead th {\n",
       "        text-align: right;\n",
       "    }\n",
       "</style>\n",
       "<table border=\"1\" class=\"dataframe\">\n",
       "  <thead>\n",
       "    <tr style=\"text-align: right;\">\n",
       "      <th>is_fraud</th>\n",
       "      <th>0</th>\n",
       "      <th>1</th>\n",
       "    </tr>\n",
       "    <tr>\n",
       "      <th>time_of_day</th>\n",
       "      <th></th>\n",
       "      <th></th>\n",
       "    </tr>\n",
       "  </thead>\n",
       "  <tbody>\n",
       "    <tr>\n",
       "      <th>night</th>\n",
       "      <td>0.125119</td>\n",
       "      <td>0.125057</td>\n",
       "    </tr>\n",
       "    <tr>\n",
       "      <th>morning</th>\n",
       "      <td>0.124997</td>\n",
       "      <td>0.125009</td>\n",
       "    </tr>\n",
       "    <tr>\n",
       "      <th>afternoon</th>\n",
       "      <td>0.124867</td>\n",
       "      <td>0.124935</td>\n",
       "    </tr>\n",
       "    <tr>\n",
       "      <th>evening</th>\n",
       "      <td>0.125016</td>\n",
       "      <td>0.124999</td>\n",
       "    </tr>\n",
       "  </tbody>\n",
       "</table>\n",
       "</div>"
      ],
      "text/plain": [
       "is_fraud            0         1\n",
       "time_of_day                    \n",
       "night        0.125119  0.125057\n",
       "morning      0.124997  0.125009\n",
       "afternoon    0.124867  0.124935\n",
       "evening      0.125016  0.124999"
      ]
     },
     "execution_count": 14,
     "metadata": {},
     "output_type": "execute_result"
    }
   ],
   "source": [
    "# view crosstab for time_of_day and is_fraud\n",
    "pd.crosstab(fraudsynth_train['time_of_day'], fraudsynth_train['is_fraud'], normalize=True)"
   ]
  },
  {
   "cell_type": "markdown",
   "id": "7f2d19d3-a573-44ed-a7fa-f7d74dc5d978",
   "metadata": {},
   "source": [
    "__Observations__:\n",
    "\n",
    "1. The cross tabulation table above shows the relationship between the time of day and whether a transaction is fraudulent or not. The normalize parameter means that I am viewing this information as proportions rather than value counts.\n",
    "    * For example, 12.5% of the observations occurred at night and were legitimate transactions.\n",
    "    * Notably, every other proportion is similar, meaning that approximately the same number of observations belong to each time of day, and those transactions are evenly split between the fraudulent and legitimate categories.\n",
    "2. Similar behavior was exhibited for the other variables as well, meaning that for any given category, the data was relatively evenly split between fraudulent and legitimate transactions. Due to this pattern, the other cross tabulations were not included for the sake of brevity.\n",
    "\n",
    "__Cautionary Note__:\n",
    "\n",
    "The roughly even split of fraudulent and legitimate transactions when compared for any given category of data is unexpected and unusual. Given that I know the data is synthetic, this indicates that the dataset was synthesized too evenly, which limits the complexity and value of the insights that can be extracted. I will proceed to an exploration of the quantitative data and visualizations to see whether those analyses provide greater insight or if they also indicate data quality limitations."
   ]
  },
  {
   "cell_type": "markdown",
   "id": "2014ae93-ea71-44cb-871f-c9411e5da7b1",
   "metadata": {},
   "source": [
    "#### Quantitative Features"
   ]
  },
  {
   "cell_type": "markdown",
   "id": "fc3c10bc-d9bb-4657-8379-31e10ae7d938",
   "metadata": {},
   "source": [
    "To explore the qualitative features, I use the Pandas function describe() to compute a summary of descriptive statistics. Although the date and timestamp are considered continuous variables, I do not generate these statistics for them, as they do not have relevant interpretable meanings."
   ]
  },
  {
   "cell_type": "code",
   "execution_count": 15,
   "id": "a536040a-a09a-4543-adc9-09207d220368",
   "metadata": {},
   "outputs": [],
   "source": [
    "# format values so that they do not display in scientific notation\n",
    "## format resource: https://stackoverflow.com/questions/21137150/format-suppress-scientific-notation-from-pandas-aggregation-results\n",
    "pd.options.display.float_format = '{:.2f}'.format"
   ]
  },
  {
   "cell_type": "code",
   "execution_count": 16,
   "id": "3fa7e9e5-f6c1-4cb0-8990-5d404d37264b",
   "metadata": {},
   "outputs": [
    {
     "data": {
      "text/html": [
       "<div>\n",
       "<style scoped>\n",
       "    .dataframe tbody tr th:only-of-type {\n",
       "        vertical-align: middle;\n",
       "    }\n",
       "\n",
       "    .dataframe tbody tr th {\n",
       "        vertical-align: top;\n",
       "    }\n",
       "\n",
       "    .dataframe thead th {\n",
       "        text-align: right;\n",
       "    }\n",
       "</style>\n",
       "<table border=\"1\" class=\"dataframe\">\n",
       "  <thead>\n",
       "    <tr style=\"text-align: right;\">\n",
       "      <th></th>\n",
       "      <th>amount</th>\n",
       "      <th>age</th>\n",
       "      <th>income</th>\n",
       "      <th>debt</th>\n",
       "      <th>credit_score</th>\n",
       "    </tr>\n",
       "  </thead>\n",
       "  <tbody>\n",
       "    <tr>\n",
       "      <th>count</th>\n",
       "      <td>1600000.00</td>\n",
       "      <td>1600000.00</td>\n",
       "      <td>1600000.00</td>\n",
       "      <td>1600000.00</td>\n",
       "      <td>1600000.00</td>\n",
       "    </tr>\n",
       "    <tr>\n",
       "      <th>mean</th>\n",
       "      <td>1751.74</td>\n",
       "      <td>44.01</td>\n",
       "      <td>85013.63</td>\n",
       "      <td>24981.87</td>\n",
       "      <td>574.80</td>\n",
       "    </tr>\n",
       "    <tr>\n",
       "      <th>std</th>\n",
       "      <td>1504.31</td>\n",
       "      <td>15.29</td>\n",
       "      <td>37538.48</td>\n",
       "      <td>14439.04</td>\n",
       "      <td>159.10</td>\n",
       "    </tr>\n",
       "    <tr>\n",
       "      <th>min</th>\n",
       "      <td>10.00</td>\n",
       "      <td>18.00</td>\n",
       "      <td>20000.09</td>\n",
       "      <td>0.04</td>\n",
       "      <td>300.00</td>\n",
       "    </tr>\n",
       "    <tr>\n",
       "      <th>25%</th>\n",
       "      <td>503.73</td>\n",
       "      <td>31.00</td>\n",
       "      <td>52509.29</td>\n",
       "      <td>12463.75</td>\n",
       "      <td>437.00</td>\n",
       "    </tr>\n",
       "    <tr>\n",
       "      <th>50%</th>\n",
       "      <td>1000.00</td>\n",
       "      <td>44.00</td>\n",
       "      <td>85016.20</td>\n",
       "      <td>24971.78</td>\n",
       "      <td>575.00</td>\n",
       "    </tr>\n",
       "    <tr>\n",
       "      <th>75%</th>\n",
       "      <td>2997.49</td>\n",
       "      <td>57.00</td>\n",
       "      <td>117535.89</td>\n",
       "      <td>37474.19</td>\n",
       "      <td>713.00</td>\n",
       "    </tr>\n",
       "    <tr>\n",
       "      <th>max</th>\n",
       "      <td>4999.99</td>\n",
       "      <td>70.00</td>\n",
       "      <td>149999.96</td>\n",
       "      <td>49999.98</td>\n",
       "      <td>850.00</td>\n",
       "    </tr>\n",
       "  </tbody>\n",
       "</table>\n",
       "</div>"
      ],
      "text/plain": [
       "          amount        age     income       debt  credit_score\n",
       "count 1600000.00 1600000.00 1600000.00 1600000.00    1600000.00\n",
       "mean     1751.74      44.01   85013.63   24981.87        574.80\n",
       "std      1504.31      15.29   37538.48   14439.04        159.10\n",
       "min        10.00      18.00   20000.09       0.04        300.00\n",
       "25%       503.73      31.00   52509.29   12463.75        437.00\n",
       "50%      1000.00      44.00   85016.20   24971.78        575.00\n",
       "75%      2997.49      57.00  117535.89   37474.19        713.00\n",
       "max      4999.99      70.00  149999.96   49999.98        850.00"
      ]
     },
     "execution_count": 16,
     "metadata": {},
     "output_type": "execute_result"
    }
   ],
   "source": [
    "# check descriptive statistics for non-timestamp-related quantitative attributes\n",
    "fraudsynth_train.loc[:, ['amount', 'age', 'income', 'debt', 'credit_score']].describe()"
   ]
  },
  {
   "cell_type": "markdown",
   "id": "0e3a80fa-8b85-4da6-8c2e-4c3e40fce77d",
   "metadata": {},
   "source": [
    "__Observations__:\n",
    "1. Amount\n",
    "    * The transactions in the dataset range between \\\\$10 and \\\\$5,000\n",
    "    * 50% of the transactions are below \\\\$1,000 and 75% are below \\\\$2,997\n",
    "    * The mean is higher than the median\n",
    "    * Based on the above statistics, it is likely that 'amount' has a right-skewed distribution with a number of high outliers\n",
    "2. Age\n",
    "    * The transactions in the dataset were made by people between the ages of 18 and 70 years old\n",
    "    * 50% of the users are below 44 years of age, while 75% are below 57 years of age\n",
    "    * The mean and median are nearly identical, indicating that the distribution is roughly symmetrical\n",
    "3. Income\n",
    "    * The users in the dataset have income ranging between \\\\$20,000 and \\\\$150,000\n",
    "    * 50% of the users make less than \\\\$85,016 and 75% make less than \\\\$117,536\n",
    "    * The mean and median are very close, indicating that the distribution is nearly symmetrical\n",
    "4. Debt\n",
    "    * The users in the dataset have debt ranging between \\\\$0 and \\\\$50,000\n",
    "    * 50% of the users have less than \\\\$24,972 of debt, while 75% have less than \\\\$37,474 of debt\n",
    "    * The mean and median are close in value, indicating that the distribution is roughly symmetrical\n",
    "5. Credit Score\n",
    "    * The users in the dataset have credit scores ranging from 300 to 850\n",
    "    * 50% of the users have credit scores below 575 and 75% have credit scores below 713\n",
    "    * The mean and median are nearly identical, indicating that the distribution is nearly symmetrical\n",
    "  \n",
    "__Cautionary Note__:\n",
    "\n",
    "Similar to the concern noted earlier when evaluating the cross tabulations of the qualitative data, the nearly identical means and medians displayed for all but one of the quantitative variables is indicative of overly synthesized data. I would not expect to see this type of pattern in real-world data, which is often much more complex and noisy. The above statistics are currently indicating that 'amount' is the only variable demonstrating any type of diversion from the uniformity of the other features, which I will confirm later in the data visualization portion of the exploratory data analysis."
   ]
  },
  {
   "cell_type": "markdown",
   "id": "9093e0ca-6042-4335-a912-6f6ebb42cde7",
   "metadata": {},
   "source": [
    "#### Attribute Correlation"
   ]
  },
  {
   "cell_type": "markdown",
   "id": "d6d13f94-5b44-40d9-82b4-bd5d84be380a",
   "metadata": {},
   "source": [
    "Correlation \"measures linear correlations ('as *x* goes up, *y* generally goes up/down')\" (Géron, 2023, p. 117). By evaluating correlation, I can get a sense of the strength of any linear relationships between the numeric attributes.\n",
    "\n",
    "To do so, I compute a correlation matrix and add a gradient to the resulting data frame so that cells get darker for higher correlation values."
   ]
  },
  {
   "cell_type": "code",
   "execution_count": 17,
   "id": "63b388bd-da3b-48c3-a888-2a80873dccfa",
   "metadata": {},
   "outputs": [],
   "source": [
    "# compute correlations\n",
    "corr_matrix = fraudsynth_train.loc[:, ['amount', 'age', 'income', 'debt', 'credit_score']].corr(numeric_only=True)"
   ]
  },
  {
   "cell_type": "code",
   "execution_count": 18,
   "id": "1bdbe24e-9821-46f4-a1c6-1578ff3846d3",
   "metadata": {},
   "outputs": [
    {
     "data": {
      "text/html": [
       "<style type=\"text/css\">\n",
       "#T_8b873_row0_col0, #T_8b873_row1_col1, #T_8b873_row2_col2, #T_8b873_row3_col3, #T_8b873_row4_col4 {\n",
       "  background-color: #023858;\n",
       "  color: #f1f1f1;\n",
       "}\n",
       "#T_8b873_row0_col1, #T_8b873_row0_col2, #T_8b873_row0_col3, #T_8b873_row0_col4, #T_8b873_row1_col0, #T_8b873_row1_col2, #T_8b873_row1_col3, #T_8b873_row1_col4, #T_8b873_row2_col0, #T_8b873_row2_col1, #T_8b873_row2_col3, #T_8b873_row2_col4, #T_8b873_row3_col0, #T_8b873_row3_col1, #T_8b873_row3_col2, #T_8b873_row3_col4, #T_8b873_row4_col0, #T_8b873_row4_col1, #T_8b873_row4_col2, #T_8b873_row4_col3 {\n",
       "  background-color: #fff7fb;\n",
       "  color: #000000;\n",
       "}\n",
       "</style>\n",
       "<table id=\"T_8b873\">\n",
       "  <thead>\n",
       "    <tr>\n",
       "      <th class=\"blank level0\" >&nbsp;</th>\n",
       "      <th id=\"T_8b873_level0_col0\" class=\"col_heading level0 col0\" >amount</th>\n",
       "      <th id=\"T_8b873_level0_col1\" class=\"col_heading level0 col1\" >age</th>\n",
       "      <th id=\"T_8b873_level0_col2\" class=\"col_heading level0 col2\" >income</th>\n",
       "      <th id=\"T_8b873_level0_col3\" class=\"col_heading level0 col3\" >debt</th>\n",
       "      <th id=\"T_8b873_level0_col4\" class=\"col_heading level0 col4\" >credit_score</th>\n",
       "    </tr>\n",
       "  </thead>\n",
       "  <tbody>\n",
       "    <tr>\n",
       "      <th id=\"T_8b873_level0_row0\" class=\"row_heading level0 row0\" >amount</th>\n",
       "      <td id=\"T_8b873_row0_col0\" class=\"data row0 col0\" >1.00</td>\n",
       "      <td id=\"T_8b873_row0_col1\" class=\"data row0 col1\" >-0.00</td>\n",
       "      <td id=\"T_8b873_row0_col2\" class=\"data row0 col2\" >-0.00</td>\n",
       "      <td id=\"T_8b873_row0_col3\" class=\"data row0 col3\" >0.00</td>\n",
       "      <td id=\"T_8b873_row0_col4\" class=\"data row0 col4\" >0.00</td>\n",
       "    </tr>\n",
       "    <tr>\n",
       "      <th id=\"T_8b873_level0_row1\" class=\"row_heading level0 row1\" >age</th>\n",
       "      <td id=\"T_8b873_row1_col0\" class=\"data row1 col0\" >-0.00</td>\n",
       "      <td id=\"T_8b873_row1_col1\" class=\"data row1 col1\" >1.00</td>\n",
       "      <td id=\"T_8b873_row1_col2\" class=\"data row1 col2\" >-0.00</td>\n",
       "      <td id=\"T_8b873_row1_col3\" class=\"data row1 col3\" >-0.00</td>\n",
       "      <td id=\"T_8b873_row1_col4\" class=\"data row1 col4\" >-0.00</td>\n",
       "    </tr>\n",
       "    <tr>\n",
       "      <th id=\"T_8b873_level0_row2\" class=\"row_heading level0 row2\" >income</th>\n",
       "      <td id=\"T_8b873_row2_col0\" class=\"data row2 col0\" >-0.00</td>\n",
       "      <td id=\"T_8b873_row2_col1\" class=\"data row2 col1\" >-0.00</td>\n",
       "      <td id=\"T_8b873_row2_col2\" class=\"data row2 col2\" >1.00</td>\n",
       "      <td id=\"T_8b873_row2_col3\" class=\"data row2 col3\" >-0.00</td>\n",
       "      <td id=\"T_8b873_row2_col4\" class=\"data row2 col4\" >0.00</td>\n",
       "    </tr>\n",
       "    <tr>\n",
       "      <th id=\"T_8b873_level0_row3\" class=\"row_heading level0 row3\" >debt</th>\n",
       "      <td id=\"T_8b873_row3_col0\" class=\"data row3 col0\" >0.00</td>\n",
       "      <td id=\"T_8b873_row3_col1\" class=\"data row3 col1\" >-0.00</td>\n",
       "      <td id=\"T_8b873_row3_col2\" class=\"data row3 col2\" >-0.00</td>\n",
       "      <td id=\"T_8b873_row3_col3\" class=\"data row3 col3\" >1.00</td>\n",
       "      <td id=\"T_8b873_row3_col4\" class=\"data row3 col4\" >-0.00</td>\n",
       "    </tr>\n",
       "    <tr>\n",
       "      <th id=\"T_8b873_level0_row4\" class=\"row_heading level0 row4\" >credit_score</th>\n",
       "      <td id=\"T_8b873_row4_col0\" class=\"data row4 col0\" >0.00</td>\n",
       "      <td id=\"T_8b873_row4_col1\" class=\"data row4 col1\" >-0.00</td>\n",
       "      <td id=\"T_8b873_row4_col2\" class=\"data row4 col2\" >0.00</td>\n",
       "      <td id=\"T_8b873_row4_col3\" class=\"data row4 col3\" >-0.00</td>\n",
       "      <td id=\"T_8b873_row4_col4\" class=\"data row4 col4\" >1.00</td>\n",
       "    </tr>\n",
       "  </tbody>\n",
       "</table>\n"
      ],
      "text/plain": [
       "<pandas.io.formats.style.Styler at 0x19087284b90>"
      ]
     },
     "execution_count": 18,
     "metadata": {},
     "output_type": "execute_result"
    }
   ],
   "source": [
    "# view entire correlation matrix, styled to highlight DataFrame cells with a gradient based on correlation strength\n",
    "## gradient resource: https://www.analyticsvidhya.com/blog/2021/06/style-your-pandas-dataframe-and-make-it-stunning/\n",
    "corr_matrix.style.format(precision=2).background_gradient()"
   ]
  },
  {
   "cell_type": "markdown",
   "id": "cd298825-e6dc-4143-8e76-5212eedb6869",
   "metadata": {},
   "source": [
    "__Observation__:\n",
    "\n",
    "The above correlation matrix shows 0.00 correlation between every numeric feature\n",
    "* This indicates that there is no correlation between these features\n",
    "\n",
    "__Cautionary Note__:\n",
    "\n",
    "Echoing the sentiments from the cross tabulation analyses and analysis of basic descriptive statistics for the quantitative variables, a correlation matrix with exactly 0.00 correlation between every pair of numeric features demonstrates an unusually uncorrelated dataset. This supports the theory that the data exhibits an overly perfect synthesis.\n",
    "\n",
    "Given that 'amount' is the only feature demonstrating a departure from the otherwise perfectly balanced dataset, it is likely that the dataset was created with the intention of making 'amount' the only truly predictive feature. I will proceed with data visualization to confirm the suspicions."
   ]
  },
  {
   "cell_type": "markdown",
   "id": "de6c71da-808a-4846-87cb-1e9e1c1412e5",
   "metadata": {},
   "source": [
    "### Data Visualization"
   ]
  },
  {
   "cell_type": "markdown",
   "id": "66978500-8ac1-4379-b548-333880e9bf40",
   "metadata": {},
   "source": [
    "A number of charts were generated to visualize the relationships between the target attribute ('is_fraud') and the features. As expected, the visualizations indicated no predictive relationship between any attribute except for 'amount.'\n",
    "\n",
    "For the sake of brevity, I have only included one of the visualizations that demonstrates the lack of predictive insight to be garnered from these non-predictive features:"
   ]
  },
  {
   "cell_type": "code",
   "execution_count": 19,
   "id": "f97d933b-05ee-4895-b6c2-b65707edb13b",
   "metadata": {},
   "outputs": [
    {
     "data": {
      "image/png": "[encoded data removed]",
      "text/plain": [
       "<Figure size 300x300 with 1 Axes>"
      ]
     },
     "metadata": {},
     "output_type": "display_data"
    }
   ],
   "source": [
    "# plot boxplot of age vs. is_fraud\n",
    "## set figure size\n",
    "fig, ax = plt.subplots(figsize=(3, 3))\n",
    "\n",
    "## plot boxplot\n",
    "sns.boxplot(fraudsynth_train, x='is_fraud', y='age')\n",
    "\n",
    "## add labels\n",
    "ax.set(title='Age vs. Fraud', xlabel='Is Fraud?', ylabel='Age (Years)')\n",
    "\n",
    "## set tick labels\n",
    "ax.set_xticks(ticks=[0, 1], labels=['Legitimate', 'Fraud'])\n",
    "\n",
    "## display plot\n",
    "plt.show()"
   ]
  },
  {
   "cell_type": "markdown",
   "id": "dd4ffaf9-6001-471c-a7ea-87fb49d547ad",
   "metadata": {},
   "source": [
    "The boxplot above demonstrates that the minimum, maximum, first quartile, third quartile, and median are identical when viewing the distribution of user ages by fraud status.\n",
    "\n",
    "Similar visualizations were created for the other variables, which supports the hypothesis that the data was overly synthesized."
   ]
  },
  {
   "cell_type": "markdown",
   "id": "21701a9d-37df-4e42-b1da-3a58c91a9ee4",
   "metadata": {},
   "source": [
    "Lastly, I view the boxplot of transaction amounts compared based on whether the transactions were fraudulent or not."
   ]
  },
  {
   "cell_type": "code",
   "execution_count": 20,
   "id": "7c66de55-1a4a-434b-826e-feb2824ace0e",
   "metadata": {},
   "outputs": [
    {
     "data": {
      "image/png": "[encoded data removed]",
      "text/plain": [
       "<Figure size 300x300 with 1 Axes>"
      ]
     },
     "metadata": {},
     "output_type": "display_data"
    }
   ],
   "source": [
    "# plot boxplot of amount vs. is_fraud\n",
    "## set figure size\n",
    "fig, ax = plt.subplots(figsize=(3, 3))\n",
    "\n",
    "## plot boxplot\n",
    "sns.boxplot(fraudsynth_train, x='is_fraud', y='amount')\n",
    "\n",
    "## add labels\n",
    "ax.set(title='Transaction Amount vs. Fraud', xlabel='Is Fraud?', ylabel='Amount ($)')\n",
    "\n",
    "## set tick labels\n",
    "ax.set_xticks(ticks=[0, 1], labels=['Legitimate', 'Fraud'])\n",
    "\n",
    "## display plot\n",
    "plt.show()"
   ]
  },
  {
   "cell_type": "markdown",
   "id": "498c284d-a5c4-4281-8eff-1de47de192c1",
   "metadata": {},
   "source": [
    "__Observation__:\n",
    "\n",
    "This boxplot demonstrates a distinctly different range of transaction amounts for each class ('fraud' vs. 'legitimate'). The fraudulent transactions were all for higher amounts than the legitimate transactions. This indicates that a machine learning model likely can predict fraudulent activity based on the amount of a transaction.\n",
    "\n",
    "__Cautionary Note__:\n",
    "\n",
    "Given the other suspiciously evenly synthesized data, it is worth noting that this boxplot demonstrates an unusually prominent threshold over which transactions are fraudulent: \\\\$1,000. This is indicated by the top whisker of the legitimate boxplot extending up to \\\\$1,000 while the bottom whisker of the fraud boxplot extends down to \\\\$1,000.\n",
    "\n",
    "In the real-world, I would expect some overlap; stated differently, it is realistic to expect that some transactions above \\\\$1,000 are legitimate while some transactions below \\\\$1,000 are fraudulent.\n",
    "\n",
    "Based on all of the exploratory data analysis, it is clear that this dataset lacks the complexity and richness of real-world data. The oversynthesized nature of the data means that a model trained on this data will likely have very limited predictive value on real-world data that it hasn't seen before.\n",
    "\n",
    "Regardless, for educational purposes, I will proceed with preparing the data and training a logistic regression model to detect fraud. "
   ]
  },
  {
   "cell_type": "markdown",
   "id": "50ef7670-72c0-44ea-bf4b-e1e74b2139b4",
   "metadata": {},
   "source": [
    "## Data Quality Assessment <a class='anchor' id='quality'></a>"
   ]
  },
  {
   "cell_type": "markdown",
   "id": "a76f945b-d6a5-4f3f-b8c3-6269562d12f4",
   "metadata": {},
   "source": [
    "[Click Here to Return to Top](#top)"
   ]
  },
  {
   "cell_type": "markdown",
   "id": "75a43b89-5496-4f92-bdcc-89a2e4bba9ba",
   "metadata": {},
   "source": [
    "During my exploratory data analysis (EDA), I uncovered several data quality issues with the FraudSynth dataset. These issues limit the reliability of the model and provide important lessons about working with synthetic data:\n",
    "\n",
    "1. Perfectly Balanced Dataset\n",
    "\n",
    "    The dataset has an exact 50/50 split between fraudulent and legitimate transactions. While balanced datasets are often desirable, such a clean split is unrealistic in most real-world fraud detection scenarios, where fraud is relatively rare. This makes it easier for models to predict fraud but reduces their real-world applicability.\n",
    "\n",
    "2. Zero Correlation Between Features\n",
    "\n",
    "    When plotting a correlation matrix of the quantitative features, I found no correlation between any of the variables. This suggests that the dataset was synthesized too perfectly, and no meaningful relationships exist between other features. In real-world data, I would expect to see some correlation between features, such as age and income.\n",
    "\n",
    "3. Categorical Features Show Uniform Distributions\n",
    "\n",
    "    Similarly, cross-tabulations of the qualitative features revealed a uniform distribution between fraud and legitimate cases, suggesting the features were not simulated to reflect real-world distributions. This overly simplified approach likely prevents the model from learning any complex patterns."
   ]
  },
  {
   "cell_type": "markdown",
   "id": "d78a66cc-f7df-47cf-b9f5-626a14dc4f9c",
   "metadata": {},
   "source": [
    "### Why Relying on a Single Feature is Problematic"
   ]
  },
  {
   "cell_type": "markdown",
   "id": "a13004fc-b880-4a7d-92e9-576295d8253e",
   "metadata": {},
   "source": [
    "While performing exploratory data analysis, I found that transaction amount was the only feature that indicates predictive value in determining whether a transaction is fraudulent. However, relying on a single feature is problematic for several reasons:\n",
    "\n",
    "1. Overfitting to a Single Pattern\n",
    "\n",
    "   By focusing only on transaction amount, the model fails to generalize well to new data. Real-world fraud detection involves multiple nuanced factors, such as user behavior patterns, location, and timing. If the model is only capturing the relationship between transaction amount and fraud, it might miss other important signals.\n",
    "\n",
    "2. Lack of Robustness\n",
    "\n",
    "   In the real world, fraudulent transactions do not always follow a simple, predictable pattern like \"large transaction amounts indicate fraud\". A model that only learns from one feature may perform poorly if fraudsters change tactics or if new types of fraud emerge.\n",
    "\n",
    "3. Synthetic Dataset Limitations\n",
    "\n",
    "   Because the dataset was overly synthesized, the other features— such as age, income, or location— provided no additional predictive value. In real-world scenarios, these features would likely have some influence on fraud detection."
   ]
  },
  {
   "cell_type": "markdown",
   "id": "09481c0f-f277-4398-b1de-dc6fff9272d6",
   "metadata": {},
   "source": [
    "## Prepare the Data <a class='anchor' id='prepare'></a>"
   ]
  },
  {
   "cell_type": "markdown",
   "id": "f98a6def-7692-4c74-a963-ece91f99a0c9",
   "metadata": {},
   "source": [
    "[Click Here to Return to Top](#top)"
   ]
  },
  {
   "cell_type": "markdown",
   "id": "a91921f7-3524-4e0d-a591-a20d64daa7c3",
   "metadata": {},
   "source": [
    "### Feature Selection"
   ]
  },
  {
   "cell_type": "markdown",
   "id": "f5193028-f270-440d-9d22-7ba52572fa81",
   "metadata": {},
   "source": [
    "Only one of the features ('amount') demonstrated a clear pattern when compared to the target attribute 'is_fraud'. While real-world data likely does have some complex relationships that a machine learning model could detect better than a human performing exploratory data analysis, the exploration indicated that this data was too evenly synthesized. As a result, I will not engage in further feature selection methods.\n",
    "\n",
    "Below, I create a function that will reduce the raw data to only include the selected feature, 'amount'. This will save time in the future, allowing me to reduce the test data without re-writing the code."
   ]
  },
  {
   "cell_type": "code",
   "execution_count": 21,
   "id": "057d84e0-5848-46f7-98c8-e6addf3afa69",
   "metadata": {},
   "outputs": [],
   "source": [
    "# create function to reduce data to the selected feature\n",
    "def feature_selection(df):\n",
    "    X_selection = pd.DataFrame(df['amount'])\n",
    "    return X_selection"
   ]
  },
  {
   "cell_type": "code",
   "execution_count": 22,
   "id": "5809383b-9f85-4fbe-8842-ae37e1d6969e",
   "metadata": {},
   "outputs": [],
   "source": [
    "# utilize feature selection function on training data\n",
    "X_train_selected = feature_selection(X_train)"
   ]
  },
  {
   "cell_type": "markdown",
   "id": "7abf93e9-a104-4962-af01-3be009cdf70f",
   "metadata": {},
   "source": [
    "### Explanation: Lack of Other Data Preprocessing Steps"
   ]
  },
  {
   "cell_type": "markdown",
   "id": "fd21bb6c-272e-4168-a56c-b887f86951e7",
   "metadata": {},
   "source": [
    "While this is unusual, there are no further data preprocessing steps. I do not need to encode any variables, given that the only predictive feature is already numeric. Similarly, I do not need to do any scaling, because I do not need to worry about a model focusing on other features with with a different range of values. Lastly, I do not need to impute any values, because the dataset did not have any missing values. While I might consider including imputation in a data pipeline in a different context where new data might be fed to the model with missing values, this model is only being prepared for educational purposes."
   ]
  },
  {
   "cell_type": "markdown",
   "id": "bb2d7b05-a294-4682-98b2-467032fc40e3",
   "metadata": {},
   "source": [
    "## Model Training <a class='anchor' id='train'></a>"
   ]
  },
  {
   "cell_type": "markdown",
   "id": "47613d30-0357-4c49-8deb-9d3f0eea526e",
   "metadata": {},
   "source": [
    "[Click Here to Return to Top](#top)"
   ]
  },
  {
   "cell_type": "markdown",
   "id": "38c909ca-9623-4c01-b8f0-55f9975d6fab",
   "metadata": {},
   "source": [
    "Given the simplicity of the relationship indicated by the training data (i.e. amount > $1,000 is fraud), I will only train one type of machine learning model: a logistic regression classifier."
   ]
  },
  {
   "cell_type": "code",
   "execution_count": 23,
   "id": "481b8bfb-19bb-419e-ab54-300a2dfbf56e",
   "metadata": {},
   "outputs": [],
   "source": [
    "# instantiate logistic regression class\n",
    "log_clf = LogisticRegression(random_state=42, max_iter=1000)"
   ]
  },
  {
   "cell_type": "markdown",
   "id": "c91fa941-2c81-4b2b-a599-bee596a48f58",
   "metadata": {},
   "source": [
    "### Model Fitting"
   ]
  },
  {
   "cell_type": "markdown",
   "id": "74596128-137e-4c4b-a23a-0bd14d6fb1b9",
   "metadata": {},
   "source": [
    "With the model created, I train it on the data by fitting it to the training data."
   ]
  },
  {
   "cell_type": "code",
   "execution_count": 24,
   "id": "7fc8f183-31d7-4bba-a77d-10ccd5a9d8e0",
   "metadata": {},
   "outputs": [
    {
     "data": {
      "text/html": [
       "<style>#sk-container-id-1 {\n",
       "  /* Definition of color scheme common for light and dark mode */\n",
       "  --sklearn-color-text: black;\n",
       "  --sklearn-color-line: gray;\n",
       "  /* Definition of color scheme for unfitted estimators */\n",
       "  --sklearn-color-unfitted-level-0: #fff5e6;\n",
       "  --sklearn-color-unfitted-level-1: #f6e4d2;\n",
       "  --sklearn-color-unfitted-level-2: #ffe0b3;\n",
       "  --sklearn-color-unfitted-level-3: chocolate;\n",
       "  /* Definition of color scheme for fitted estimators */\n",
       "  --sklearn-color-fitted-level-0: #f0f8ff;\n",
       "  --sklearn-color-fitted-level-1: #d4ebff;\n",
       "  --sklearn-color-fitted-level-2: #b3dbfd;\n",
       "  --sklearn-color-fitted-level-3: cornflowerblue;\n",
       "\n",
       "  /* Specific color for light theme */\n",
       "  --sklearn-color-text-on-default-background: var(--sg-text-color, var(--theme-code-foreground, var(--jp-content-font-color1, black)));\n",
       "  --sklearn-color-background: var(--sg-background-color, var(--theme-background, var(--jp-layout-color0, white)));\n",
       "  --sklearn-color-border-box: var(--sg-text-color, var(--theme-code-foreground, var(--jp-content-font-color1, black)));\n",
       "  --sklearn-color-icon: #696969;\n",
       "\n",
       "  @media (prefers-color-scheme: dark) {\n",
       "    /* Redefinition of color scheme for dark theme */\n",
       "    --sklearn-color-text-on-default-background: var(--sg-text-color, var(--theme-code-foreground, var(--jp-content-font-color1, white)));\n",
       "    --sklearn-color-background: var(--sg-background-color, var(--theme-background, var(--jp-layout-color0, #111)));\n",
       "    --sklearn-color-border-box: var(--sg-text-color, var(--theme-code-foreground, var(--jp-content-font-color1, white)));\n",
       "    --sklearn-color-icon: #878787;\n",
       "  }\n",
       "}\n",
       "\n",
       "#sk-container-id-1 {\n",
       "  color: var(--sklearn-color-text);\n",
       "}\n",
       "\n",
       "#sk-container-id-1 pre {\n",
       "  padding: 0;\n",
       "}\n",
       "\n",
       "#sk-container-id-1 input.sk-hidden--visually {\n",
       "  border: 0;\n",
       "  clip: rect(1px 1px 1px 1px);\n",
       "  clip: rect(1px, 1px, 1px, 1px);\n",
       "  height: 1px;\n",
       "  margin: -1px;\n",
       "  overflow: hidden;\n",
       "  padding: 0;\n",
       "  position: absolute;\n",
       "  width: 1px;\n",
       "}\n",
       "\n",
       "#sk-container-id-1 div.sk-dashed-wrapped {\n",
       "  border: 1px dashed var(--sklearn-color-line);\n",
       "  margin: 0 0.4em 0.5em 0.4em;\n",
       "  box-sizing: border-box;\n",
       "  padding-bottom: 0.4em;\n",
       "  background-color: var(--sklearn-color-background);\n",
       "}\n",
       "\n",
       "#sk-container-id-1 div.sk-container {\n",
       "  /* jupyter's `normalize.less` sets `[hidden] { display: none; }`\n",
       "     but bootstrap.min.css set `[hidden] { display: none !important; }`\n",
       "     so we also need the `!important` here to be able to override the\n",
       "     default hidden behavior on the sphinx rendered scikit-learn.org.\n",
       "     See: https://github.com/scikit-learn/scikit-learn/issues/21755 */\n",
       "  display: inline-block !important;\n",
       "  position: relative;\n",
       "}\n",
       "\n",
       "#sk-container-id-1 div.sk-text-repr-fallback {\n",
       "  display: none;\n",
       "}\n",
       "\n",
       "div.sk-parallel-item,\n",
       "div.sk-serial,\n",
       "div.sk-item {\n",
       "  /* draw centered vertical line to link estimators */\n",
       "  background-image: linear-gradient(var(--sklearn-color-text-on-default-background), var(--sklearn-color-text-on-default-background));\n",
       "  background-size: 2px 100%;\n",
       "  background-repeat: no-repeat;\n",
       "  background-position: center center;\n",
       "}\n",
       "\n",
       "/* Parallel-specific style estimator block */\n",
       "\n",
       "#sk-container-id-1 div.sk-parallel-item::after {\n",
       "  content: \"\";\n",
       "  width: 100%;\n",
       "  border-bottom: 2px solid var(--sklearn-color-text-on-default-background);\n",
       "  flex-grow: 1;\n",
       "}\n",
       "\n",
       "#sk-container-id-1 div.sk-parallel {\n",
       "  display: flex;\n",
       "  align-items: stretch;\n",
       "  justify-content: center;\n",
       "  background-color: var(--sklearn-color-background);\n",
       "  position: relative;\n",
       "}\n",
       "\n",
       "#sk-container-id-1 div.sk-parallel-item {\n",
       "  display: flex;\n",
       "  flex-direction: column;\n",
       "}\n",
       "\n",
       "#sk-container-id-1 div.sk-parallel-item:first-child::after {\n",
       "  align-self: flex-end;\n",
       "  width: 50%;\n",
       "}\n",
       "\n",
       "#sk-container-id-1 div.sk-parallel-item:last-child::after {\n",
       "  align-self: flex-start;\n",
       "  width: 50%;\n",
       "}\n",
       "\n",
       "#sk-container-id-1 div.sk-parallel-item:only-child::after {\n",
       "  width: 0;\n",
       "}\n",
       "\n",
       "/* Serial-specific style estimator block */\n",
       "\n",
       "#sk-container-id-1 div.sk-serial {\n",
       "  display: flex;\n",
       "  flex-direction: column;\n",
       "  align-items: center;\n",
       "  background-color: var(--sklearn-color-background);\n",
       "  padding-right: 1em;\n",
       "  padding-left: 1em;\n",
       "}\n",
       "\n",
       "\n",
       "/* Toggleable style: style used for estimator/Pipeline/ColumnTransformer box that is\n",
       "clickable and can be expanded/collapsed.\n",
       "- Pipeline and ColumnTransformer use this feature and define the default style\n",
       "- Estimators will overwrite some part of the style using the `sk-estimator` class\n",
       "*/\n",
       "\n",
       "/* Pipeline and ColumnTransformer style (default) */\n",
       "\n",
       "#sk-container-id-1 div.sk-toggleable {\n",
       "  /* Default theme specific background. It is overwritten whether we have a\n",
       "  specific estimator or a Pipeline/ColumnTransformer */\n",
       "  background-color: var(--sklearn-color-background);\n",
       "}\n",
       "\n",
       "/* Toggleable label */\n",
       "#sk-container-id-1 label.sk-toggleable__label {\n",
       "  cursor: pointer;\n",
       "  display: block;\n",
       "  width: 100%;\n",
       "  margin-bottom: 0;\n",
       "  padding: 0.5em;\n",
       "  box-sizing: border-box;\n",
       "  text-align: center;\n",
       "}\n",
       "\n",
       "#sk-container-id-1 label.sk-toggleable__label-arrow:before {\n",
       "  /* Arrow on the left of the label */\n",
       "  content: \"▸\";\n",
       "  float: left;\n",
       "  margin-right: 0.25em;\n",
       "  color: var(--sklearn-color-icon);\n",
       "}\n",
       "\n",
       "#sk-container-id-1 label.sk-toggleable__label-arrow:hover:before {\n",
       "  color: var(--sklearn-color-text);\n",
       "}\n",
       "\n",
       "/* Toggleable content - dropdown */\n",
       "\n",
       "#sk-container-id-1 div.sk-toggleable__content {\n",
       "  max-height: 0;\n",
       "  max-width: 0;\n",
       "  overflow: hidden;\n",
       "  text-align: left;\n",
       "  /* unfitted */\n",
       "  background-color: var(--sklearn-color-unfitted-level-0);\n",
       "}\n",
       "\n",
       "#sk-container-id-1 div.sk-toggleable__content.fitted {\n",
       "  /* fitted */\n",
       "  background-color: var(--sklearn-color-fitted-level-0);\n",
       "}\n",
       "\n",
       "#sk-container-id-1 div.sk-toggleable__content pre {\n",
       "  margin: 0.2em;\n",
       "  border-radius: 0.25em;\n",
       "  color: var(--sklearn-color-text);\n",
       "  /* unfitted */\n",
       "  background-color: var(--sklearn-color-unfitted-level-0);\n",
       "}\n",
       "\n",
       "#sk-container-id-1 div.sk-toggleable__content.fitted pre {\n",
       "  /* unfitted */\n",
       "  background-color: var(--sklearn-color-fitted-level-0);\n",
       "}\n",
       "\n",
       "#sk-container-id-1 input.sk-toggleable__control:checked~div.sk-toggleable__content {\n",
       "  /* Expand drop-down */\n",
       "  max-height: 200px;\n",
       "  max-width: 100%;\n",
       "  overflow: auto;\n",
       "}\n",
       "\n",
       "#sk-container-id-1 input.sk-toggleable__control:checked~label.sk-toggleable__label-arrow:before {\n",
       "  content: \"▾\";\n",
       "}\n",
       "\n",
       "/* Pipeline/ColumnTransformer-specific style */\n",
       "\n",
       "#sk-container-id-1 div.sk-label input.sk-toggleable__control:checked~label.sk-toggleable__label {\n",
       "  color: var(--sklearn-color-text);\n",
       "  background-color: var(--sklearn-color-unfitted-level-2);\n",
       "}\n",
       "\n",
       "#sk-container-id-1 div.sk-label.fitted input.sk-toggleable__control:checked~label.sk-toggleable__label {\n",
       "  background-color: var(--sklearn-color-fitted-level-2);\n",
       "}\n",
       "\n",
       "/* Estimator-specific style */\n",
       "\n",
       "/* Colorize estimator box */\n",
       "#sk-container-id-1 div.sk-estimator input.sk-toggleable__control:checked~label.sk-toggleable__label {\n",
       "  /* unfitted */\n",
       "  background-color: var(--sklearn-color-unfitted-level-2);\n",
       "}\n",
       "\n",
       "#sk-container-id-1 div.sk-estimator.fitted input.sk-toggleable__control:checked~label.sk-toggleable__label {\n",
       "  /* fitted */\n",
       "  background-color: var(--sklearn-color-fitted-level-2);\n",
       "}\n",
       "\n",
       "#sk-container-id-1 div.sk-label label.sk-toggleable__label,\n",
       "#sk-container-id-1 div.sk-label label {\n",
       "  /* The background is the default theme color */\n",
       "  color: var(--sklearn-color-text-on-default-background);\n",
       "}\n",
       "\n",
       "/* On hover, darken the color of the background */\n",
       "#sk-container-id-1 div.sk-label:hover label.sk-toggleable__label {\n",
       "  color: var(--sklearn-color-text);\n",
       "  background-color: var(--sklearn-color-unfitted-level-2);\n",
       "}\n",
       "\n",
       "/* Label box, darken color on hover, fitted */\n",
       "#sk-container-id-1 div.sk-label.fitted:hover label.sk-toggleable__label.fitted {\n",
       "  color: var(--sklearn-color-text);\n",
       "  background-color: var(--sklearn-color-fitted-level-2);\n",
       "}\n",
       "\n",
       "/* Estimator label */\n",
       "\n",
       "#sk-container-id-1 div.sk-label label {\n",
       "  font-family: monospace;\n",
       "  font-weight: bold;\n",
       "  display: inline-block;\n",
       "  line-height: 1.2em;\n",
       "}\n",
       "\n",
       "#sk-container-id-1 div.sk-label-container {\n",
       "  text-align: center;\n",
       "}\n",
       "\n",
       "/* Estimator-specific */\n",
       "#sk-container-id-1 div.sk-estimator {\n",
       "  font-family: monospace;\n",
       "  border: 1px dotted var(--sklearn-color-border-box);\n",
       "  border-radius: 0.25em;\n",
       "  box-sizing: border-box;\n",
       "  margin-bottom: 0.5em;\n",
       "  /* unfitted */\n",
       "  background-color: var(--sklearn-color-unfitted-level-0);\n",
       "}\n",
       "\n",
       "#sk-container-id-1 div.sk-estimator.fitted {\n",
       "  /* fitted */\n",
       "  background-color: var(--sklearn-color-fitted-level-0);\n",
       "}\n",
       "\n",
       "/* on hover */\n",
       "#sk-container-id-1 div.sk-estimator:hover {\n",
       "  /* unfitted */\n",
       "  background-color: var(--sklearn-color-unfitted-level-2);\n",
       "}\n",
       "\n",
       "#sk-container-id-1 div.sk-estimator.fitted:hover {\n",
       "  /* fitted */\n",
       "  background-color: var(--sklearn-color-fitted-level-2);\n",
       "}\n",
       "\n",
       "/* Specification for estimator info (e.g. \"i\" and \"?\") */\n",
       "\n",
       "/* Common style for \"i\" and \"?\" */\n",
       "\n",
       ".sk-estimator-doc-link,\n",
       "a:link.sk-estimator-doc-link,\n",
       "a:visited.sk-estimator-doc-link {\n",
       "  float: right;\n",
       "  font-size: smaller;\n",
       "  line-height: 1em;\n",
       "  font-family: monospace;\n",
       "  background-color: var(--sklearn-color-background);\n",
       "  border-radius: 1em;\n",
       "  height: 1em;\n",
       "  width: 1em;\n",
       "  text-decoration: none !important;\n",
       "  margin-left: 1ex;\n",
       "  /* unfitted */\n",
       "  border: var(--sklearn-color-unfitted-level-1) 1pt solid;\n",
       "  color: var(--sklearn-color-unfitted-level-1);\n",
       "}\n",
       "\n",
       ".sk-estimator-doc-link.fitted,\n",
       "a:link.sk-estimator-doc-link.fitted,\n",
       "a:visited.sk-estimator-doc-link.fitted {\n",
       "  /* fitted */\n",
       "  border: var(--sklearn-color-fitted-level-1) 1pt solid;\n",
       "  color: var(--sklearn-color-fitted-level-1);\n",
       "}\n",
       "\n",
       "/* On hover */\n",
       "div.sk-estimator:hover .sk-estimator-doc-link:hover,\n",
       ".sk-estimator-doc-link:hover,\n",
       "div.sk-label-container:hover .sk-estimator-doc-link:hover,\n",
       ".sk-estimator-doc-link:hover {\n",
       "  /* unfitted */\n",
       "  background-color: var(--sklearn-color-unfitted-level-3);\n",
       "  color: var(--sklearn-color-background);\n",
       "  text-decoration: none;\n",
       "}\n",
       "\n",
       "div.sk-estimator.fitted:hover .sk-estimator-doc-link.fitted:hover,\n",
       ".sk-estimator-doc-link.fitted:hover,\n",
       "div.sk-label-container:hover .sk-estimator-doc-link.fitted:hover,\n",
       ".sk-estimator-doc-link.fitted:hover {\n",
       "  /* fitted */\n",
       "  background-color: var(--sklearn-color-fitted-level-3);\n",
       "  color: var(--sklearn-color-background);\n",
       "  text-decoration: none;\n",
       "}\n",
       "\n",
       "/* Span, style for the box shown on hovering the info icon */\n",
       ".sk-estimator-doc-link span {\n",
       "  display: none;\n",
       "  z-index: 9999;\n",
       "  position: relative;\n",
       "  font-weight: normal;\n",
       "  right: .2ex;\n",
       "  padding: .5ex;\n",
       "  margin: .5ex;\n",
       "  width: min-content;\n",
       "  min-width: 20ex;\n",
       "  max-width: 50ex;\n",
       "  color: var(--sklearn-color-text);\n",
       "  box-shadow: 2pt 2pt 4pt #999;\n",
       "  /* unfitted */\n",
       "  background: var(--sklearn-color-unfitted-level-0);\n",
       "  border: .5pt solid var(--sklearn-color-unfitted-level-3);\n",
       "}\n",
       "\n",
       ".sk-estimator-doc-link.fitted span {\n",
       "  /* fitted */\n",
       "  background: var(--sklearn-color-fitted-level-0);\n",
       "  border: var(--sklearn-color-fitted-level-3);\n",
       "}\n",
       "\n",
       ".sk-estimator-doc-link:hover span {\n",
       "  display: block;\n",
       "}\n",
       "\n",
       "/* \"?\"-specific style due to the `<a>` HTML tag */\n",
       "\n",
       "#sk-container-id-1 a.estimator_doc_link {\n",
       "  float: right;\n",
       "  font-size: 1rem;\n",
       "  line-height: 1em;\n",
       "  font-family: monospace;\n",
       "  background-color: var(--sklearn-color-background);\n",
       "  border-radius: 1rem;\n",
       "  height: 1rem;\n",
       "  width: 1rem;\n",
       "  text-decoration: none;\n",
       "  /* unfitted */\n",
       "  color: var(--sklearn-color-unfitted-level-1);\n",
       "  border: var(--sklearn-color-unfitted-level-1) 1pt solid;\n",
       "}\n",
       "\n",
       "#sk-container-id-1 a.estimator_doc_link.fitted {\n",
       "  /* fitted */\n",
       "  border: var(--sklearn-color-fitted-level-1) 1pt solid;\n",
       "  color: var(--sklearn-color-fitted-level-1);\n",
       "}\n",
       "\n",
       "/* On hover */\n",
       "#sk-container-id-1 a.estimator_doc_link:hover {\n",
       "  /* unfitted */\n",
       "  background-color: var(--sklearn-color-unfitted-level-3);\n",
       "  color: var(--sklearn-color-background);\n",
       "  text-decoration: none;\n",
       "}\n",
       "\n",
       "#sk-container-id-1 a.estimator_doc_link.fitted:hover {\n",
       "  /* fitted */\n",
       "  background-color: var(--sklearn-color-fitted-level-3);\n",
       "}\n",
       "</style><div id=\"sk-container-id-1\" class=\"sk-top-container\"><div class=\"sk-text-repr-fallback\"><pre>LogisticRegression(max_iter=1000, random_state=42)</pre><b>In a Jupyter environment, please rerun this cell to show the HTML representation or trust the notebook. <br />On GitHub, the HTML representation is unable to render, please try loading this page with nbviewer.org.</b></div><div class=\"sk-container\" hidden><div class=\"sk-item\"><div class=\"sk-estimator fitted sk-toggleable\"><input class=\"sk-toggleable__control sk-hidden--visually\" id=\"sk-estimator-id-1\" type=\"checkbox\" checked><label for=\"sk-estimator-id-1\" class=\"sk-toggleable__label fitted sk-toggleable__label-arrow fitted\">&nbsp;&nbsp;LogisticRegression<a class=\"sk-estimator-doc-link fitted\" rel=\"noreferrer\" target=\"_blank\" href=\"https://scikit-learn.org/1.5/modules/generated/sklearn.linear_model.LogisticRegression.html\">?<span>Documentation for LogisticRegression</span></a><span class=\"sk-estimator-doc-link fitted\">i<span>Fitted</span></span></label><div class=\"sk-toggleable__content fitted\"><pre>LogisticRegression(max_iter=1000, random_state=42)</pre></div> </div></div></div></div>"
      ],
      "text/plain": [
       "LogisticRegression(max_iter=1000, random_state=42)"
      ]
     },
     "execution_count": 24,
     "metadata": {},
     "output_type": "execute_result"
    }
   ],
   "source": [
    "# fit logistic regression model to training data\n",
    "log_clf.fit(X_train_selected, y_train)"
   ]
  },
  {
   "cell_type": "markdown",
   "id": "17949cdc-cfc5-4e16-bfc6-73f8e8983e35",
   "metadata": {},
   "source": [
    "### Model Evaluation: Training Data"
   ]
  },
  {
   "cell_type": "markdown",
   "id": "e7fe448e-9412-470f-8c7c-e26252977b86",
   "metadata": {},
   "source": [
    "I am most interested in correctly predicting whether a transaction is fraudulent, so I can describe potential outcomes as follows:\n",
    "1. True Positive: A fraudulent transaction that is correctly predicted to be fraudulent\n",
    "2. True Negative: A legitimate transaction that is correctly predicted to be legitimate\n",
    "3. False Positive: A legitimate transactions that is incorrectly predicted to be fraudulent\n",
    "4. False Negative: A fraudulent transactions that is incorrectly predicted to be legitimate\n",
    "\n",
    "I will evaluate the model based on its accuracy, precision, recall, and F1 score:\n",
    "1. Accuracy evaluates how accurate the model is; how often did the model correctly predict whether a transaction was fraudulent or legitimate?\n",
    "2. Precision evaluates how accurate the positive predictions are; for the transactions that the model predicted to be fraudulent, how often were they actually fraudulent?\n",
    "3. Recall evaluates how well the model recognizes true positive predictions; for the transactions that were fraudulent, how often did the model predict that they were fraudulent?\n",
    "4. F1 scores are the harmonic mean of precision and recall. The harmonic mean gives more weight to smaller values than the more commonly known arithmetic mean. This metric will only be high if both precision and recall are high.\n",
    "\n",
    "In this case, I will evaluate all of the above metrics, but I focus on precision more than the recall or the F1 score. Precision emphasizes minimizing false positives. While not all fraud detection scenarios will share this perspective, the data predominantly consists of relatively small dollar amounts for transactions. As a result, I do not want to block small legitimate transactions and bother the customers to determine their legitimacy. If the data I was anticipating had the propensity to involve a higher volume of large value transactions, I might prioritize recall instead, which places an emphasis on identifying true positive predictions and increases the propensity for false positives.\n",
    "\n",
    "As long as the model has a high degree of overall accuracy, I can accept a few false negatives (allowing a few fraudulent transactions to go undetected) to avoid bothering the clients with investigations into legitimate transactions.\n",
    "\n",
    "First, I will review these metrics for the training data, to confirm whether the model is demonstrating high metrics on the data it was trained on:"
   ]
  },
  {
   "cell_type": "code",
   "execution_count": 25,
   "id": "733996d1-09c8-4102-a6c2-a7d9b9e53a9d",
   "metadata": {},
   "outputs": [],
   "source": [
    "# generate list of predictions\n",
    "y_train_preds = cross_val_predict(log_clf, X_train_selected, y_train, cv=3)"
   ]
  },
  {
   "cell_type": "code",
   "execution_count": 26,
   "id": "9e4b6735-961e-4c77-a55d-90347001972d",
   "metadata": {},
   "outputs": [
    {
     "data": {
      "text/plain": [
       "0.9999625"
      ]
     },
     "execution_count": 26,
     "metadata": {},
     "output_type": "execute_result"
    }
   ],
   "source": [
    "# compute accuracy score for logistic regression model\n",
    "accuracy_score(y_train, y_train_preds)"
   ]
  },
  {
   "cell_type": "code",
   "execution_count": 27,
   "id": "b5e93b18-8aed-40a1-af52-a8e59b5b181e",
   "metadata": {},
   "outputs": [
    {
     "data": {
      "text/plain": [
       "1.0"
      ]
     },
     "execution_count": 27,
     "metadata": {},
     "output_type": "execute_result"
    }
   ],
   "source": [
    "# compute precision score\n",
    "precision_score(y_train, y_train_preds, pos_label=1)"
   ]
  },
  {
   "cell_type": "code",
   "execution_count": 28,
   "id": "b463c3ce-7a1b-4829-bce0-b4795f382944",
   "metadata": {},
   "outputs": [
    {
     "data": {
      "text/plain": [
       "0.999925"
      ]
     },
     "execution_count": 28,
     "metadata": {},
     "output_type": "execute_result"
    }
   ],
   "source": [
    "# compute recall score\n",
    "recall_score(y_train, y_train_preds, pos_label=1)"
   ]
  },
  {
   "cell_type": "code",
   "execution_count": 29,
   "id": "16d8ce4b-806e-45ab-ae61-ac650205b35b",
   "metadata": {},
   "outputs": [
    {
     "data": {
      "text/plain": [
       "0.9999624985936972"
      ]
     },
     "execution_count": 29,
     "metadata": {},
     "output_type": "execute_result"
    }
   ],
   "source": [
    "# compute F1 score\n",
    "f1_score(y_train, y_train_preds, pos_label=1)"
   ]
  },
  {
   "cell_type": "markdown",
   "id": "27b756f7-6baf-46ba-a376-7edf919bd858",
   "metadata": {},
   "source": [
    "All of the metrics demonstrate nearly perfect performance on the training data. If I was pursuing this model as a plausible candidate for deployment, I would likely build some additional models so that I could compare performance to either select one model or create an ensemble model using some or all of them. Then, I would likely tune the hyperparameters to optimize model performance.\n",
    "\n",
    "Given that this is an educational endeavor and I already know that the data is not likely to provide predictive insights that could generalize well to new real-world scenarios, I will proceed directly to testing the model using the test data."
   ]
  },
  {
   "cell_type": "markdown",
   "id": "e24ecbfe-9fbc-4dff-84e1-178e727e9069",
   "metadata": {},
   "source": [
    "### Model Evaluation: Test Data"
   ]
  },
  {
   "cell_type": "markdown",
   "id": "fe9b8be1-5903-445f-8110-bbbfb5aaef08",
   "metadata": {},
   "source": [
    "Below, I use the feature selection function on the test data before using the model to make predictions. Lastly, I compute the key metrics on these test data predictions to evaluate how the model performs on new data."
   ]
  },
  {
   "cell_type": "code",
   "execution_count": 30,
   "id": "8e526cf4-6290-4309-a767-2cab1fd90298",
   "metadata": {},
   "outputs": [],
   "source": [
    "# utilize feature selection function on training data\n",
    "X_test_selected = feature_selection(X_test)"
   ]
  },
  {
   "cell_type": "code",
   "execution_count": 31,
   "id": "318e89ea-cd14-440d-a581-76b9d340e644",
   "metadata": {},
   "outputs": [],
   "source": [
    "# generate list of predictions\n",
    "y_test_preds = cross_val_predict(log_clf, X_test_selected, y_test, cv=3)"
   ]
  },
  {
   "cell_type": "code",
   "execution_count": 32,
   "id": "b3f2b967-21ec-44ab-a089-0884828c7f6c",
   "metadata": {},
   "outputs": [
    {
     "data": {
      "text/plain": [
       "0.9999775"
      ]
     },
     "execution_count": 32,
     "metadata": {},
     "output_type": "execute_result"
    }
   ],
   "source": [
    "# compute accuracy score for logistic regression model\n",
    "accuracy_score(y_test, y_test_preds)"
   ]
  },
  {
   "cell_type": "code",
   "execution_count": 33,
   "id": "22316f24-36a2-4468-bc2e-3ed701d20f90",
   "metadata": {},
   "outputs": [
    {
     "data": {
      "text/plain": [
       "1.0"
      ]
     },
     "execution_count": 33,
     "metadata": {},
     "output_type": "execute_result"
    }
   ],
   "source": [
    "# compute precision score\n",
    "precision_score(y_test, y_test_preds, pos_label=1)"
   ]
  },
  {
   "cell_type": "code",
   "execution_count": 34,
   "id": "4c95c351-72f6-497c-bc63-76e83ab69e11",
   "metadata": {},
   "outputs": [
    {
     "data": {
      "text/plain": [
       "0.999955"
      ]
     },
     "execution_count": 34,
     "metadata": {},
     "output_type": "execute_result"
    }
   ],
   "source": [
    "# compute recall score\n",
    "recall_score(y_test, y_test_preds, pos_label=1)"
   ]
  },
  {
   "cell_type": "code",
   "execution_count": 35,
   "id": "ce6689d3-1c6a-44b4-ba4f-6ca330927a57",
   "metadata": {
    "scrolled": true
   },
   "outputs": [
    {
     "data": {
      "text/plain": [
       "0.9999774994937386"
      ]
     },
     "execution_count": 35,
     "metadata": {},
     "output_type": "execute_result"
    }
   ],
   "source": [
    "# compute F1 score\n",
    "f1_score(y_test, y_test_preds, pos_label=1)"
   ]
  },
  {
   "cell_type": "markdown",
   "id": "9dd34245-3f09-4328-b4a8-13801661bbb0",
   "metadata": {},
   "source": [
    "When evaluating the performance of the final model using the test data:\n",
    "1. The model performs with the same near-perfect performance that was demonstrated on the training data.\n",
    "2. In combination with the previous concerns about this synthetic dataset, this level of performance is indicative of extreme overfitting and reinforces the concern that feeding the model real-world data would likely result in an unacceptable amount of false predictions."
   ]
  },
  {
   "cell_type": "markdown",
   "id": "24af195f-fe74-4329-afb6-99446b400037",
   "metadata": {},
   "source": [
    "## Conclusion <a class='anchor' id='conclusion'></a>"
   ]
  },
  {
   "cell_type": "markdown",
   "id": "9a90063f-b1f2-491b-9199-f0ea693ec23d",
   "metadata": {},
   "source": [
    "[Click Here to Return to Top](#top)"
   ]
  },
  {
   "cell_type": "markdown",
   "id": "e97efd6a-18fc-43d0-a762-2f7d6070bbae",
   "metadata": {},
   "source": [
    "Given the insights gathered during exploratory data analysis and the subsequent model testing indicating a likelihood of overfitting, I would not recommend deploying this logistic regression classifier. \n",
    "\n",
    "Based on the data I saw, it appears that this model is operating at a level of complexity that is no more advanced that traditional non-machine-learning-based fraud detection systems that operate based on fixed rules such as an amount-based threshold. Based on the boxplot of the transaction amounts against the target attribute, I can infer that the model is the equivalent of setting a \\\\$1,000 threshold for transactions where any transaction above \\\\$1,000 is investigated to determine whether it is fraudulent.\n",
    "\n",
    "Even though this project didn't produce a viable model, it was still a valuable exercise in utilizing exploratory data analsis to identify problems with data quality. Additionally, it demonstrating some of the limitations of creating a machine learning model using overly synthesized data that isn't representative of data found in the real-world. \n",
    "\n",
    "This isn't the outcome I expected when I first set out to create a fraud detection model, but it is an excellent cautionary tale about the risks of utilizing non-representative data and the importance of working with more realistic, noisy datasets. Ultimately, this was a good stepping stone towards deeper fraud analytics and anomaly detection work that considers real-world data complexities."
   ]
  },
  {
   "cell_type": "markdown",
   "id": "a6cbc546-497f-4f17-8b7e-3b5a22ac8920",
   "metadata": {},
   "source": [
    "## References <a class='anchor' id='references'></a>"
   ]
  },
  {
   "cell_type": "markdown",
   "id": "419308cf-e4c7-4c21-90ea-ccc5ff29a0f3",
   "metadata": {},
   "source": [
    "[Click Here to Return to Top](#top)"
   ]
  },
  {
   "cell_type": "markdown",
   "id": "4ba731a2-4866-41ed-94ab-10ef83ccb55e",
   "metadata": {},
   "source": [
    "Géron, Aurélien. (2023). *Hands-On Machine Learning with Scikit-Learn, Keras, and TensorFlow, Third Edition*. O'Reilly Media.\n",
    "\n",
    "Ismail, Youssef. (2024, February 29). *FraudSynth: Credit Fraud Detection Dataset*. Kaggle. https://www.kaggle.com/datasets/youssefismail20/fraudsynth-credit-fraud-detection-dataset"
   ]
  }
 ],
 "metadata": {
  "kernelspec": {
   "display_name": "Python 3 (ipykernel)",
   "language": "python",
   "name": "python3"
  },
  "language_info": {
   "codemirror_mode": {
    "name": "ipython",
    "version": 3
   },
   "file_extension": ".py",
   "mimetype": "text/x-python",
   "name": "python",
   "nbconvert_exporter": "python",
   "pygments_lexer": "ipython3",
   "version": "3.12.3"
  }
 },
 "nbformat": 4,
 "nbformat_minor": 5
}
